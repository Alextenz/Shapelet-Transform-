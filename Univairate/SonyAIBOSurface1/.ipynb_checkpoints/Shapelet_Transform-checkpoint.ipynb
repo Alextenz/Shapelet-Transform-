{
 "cells": [
  {
   "cell_type": "code",
   "execution_count": null,
   "id": "0f18e966-d903-4200-9d4d-167fb10d86a8",
   "metadata": {},
   "outputs": [
    {
     "name": "stdout",
     "output_type": "stream",
     "text": [
      "Shape of transformed data = (601, 921)\n",
      "Average execution time for SonyAIBORobot1: 0.05139909982681275 sec\n"
     ]
    }
   ],
   "source": [
    "import os\n",
    "import time\n",
    "import numpy as np\n",
    "import pandas as pd\n",
    "from aeon.transformations.collection.shapelet_based import (RandomShapeletTransform)\n",
    "\n",
    "# Load data\n",
    "train_data = pd.read_csv(os.path.join(os.getcwd(),'Input', 'SonyAIBOSurface1Train.csv'))\n",
    "x_train, y_train = np.array(train_data.iloc[:, :-1]), np.array(train_data.iloc[:, -1])\n",
    "\n",
    "# Apply RandomShapeletTransform\n",
    "rst = RandomShapeletTransform(n_shapelet_samples=30000, max_shapelets=6010, min_shapelet_length=3,\n",
    "                              max_shapelet_length=70, random_state=42, remove_self_similar=True, batch_size=250, n_jobs=-10)\n",
    "train_transform = rst.fit_transform(x_train, y_train)\n",
    "print(\"Shape of transformed data =\", train_transform.shape)\n",
    "\n",
    "# Load test data and transform\n",
    "test_data = pd.read_csv(os.path.join(os.getcwd(),'Input', 'SonyAIBOSurface1Test.csv'))\n",
    "x_test, y_test = np.array(test_data.iloc[:, :-1]), np.array(test_data.iloc[:, -1])\n",
    "\n",
    "# Calculate testing time\n",
    "start_time = time.time()\n",
    "tr_test = pd.DataFrame(rst.transform(x_test))\n",
    "end_time = time.time()\n",
    "print(\"Average execution time for SonyAIBORobot1:\", (end_time - start_time) / len(tr_test), \"sec\")\n",
    "\n",
    "# Save transformed test data\n",
    "pd.concat([tr_test, pd.DataFrame(y_test)], axis=1).to_csv(os.path.join(os.getcwd(), 'Output', 'Test_Shapelet.csv'), header=None, index=False)\n",
    "\n",
    "# Save transformed train data\n",
    "pd.concat([pd.DataFrame(rst.transform(x_train)), pd.DataFrame(y_train)], axis=1).to_csv(os.path.join(os.getcwd(), 'Output', 'Train_Shapelet.csv'), header=None, index=False)\n"
   ]
  }
 ],
 "metadata": {
  "kernelspec": {
   "display_name": "Python 3 (ipykernel)",
   "language": "python",
   "name": "python3"
  },
  "language_info": {
   "codemirror_mode": {
    "name": "ipython",
    "version": 3
   },
   "file_extension": ".py",
   "mimetype": "text/x-python",
   "name": "python",
   "nbconvert_exporter": "python",
   "pygments_lexer": "ipython3",
   "version": "3.9.21"
  }
 },
 "nbformat": 4,
 "nbformat_minor": 5
}
