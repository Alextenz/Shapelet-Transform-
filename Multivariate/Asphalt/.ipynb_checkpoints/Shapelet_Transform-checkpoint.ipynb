{
 "cells": [
  {
   "cell_type": "code",
   "execution_count": 3,
   "id": "0ee557e1",
   "metadata": {},
   "outputs": [
    {
     "ename": "SyntaxError",
     "evalue": "invalid syntax (2385859081.py, line 29)",
     "output_type": "error",
     "traceback": [
      "\u001b[1;36m  Cell \u001b[1;32mIn[3], line 29\u001b[1;36m\u001b[0m\n\u001b[1;33m    start_time = time.time()\u001b[0m\n\u001b[1;37m    ^\u001b[0m\n\u001b[1;31mSyntaxError\u001b[0m\u001b[1;31m:\u001b[0m invalid syntax\n"
     ]
    }
   ],
   "source": [
    "import os\n",
    "import time\n",
    "import numpy as np\n",
    "import pandas as pd\n",
    "from aeon.transformations.collection.shapelet_based import (RandomShapeletTransform)\n",
    "from sklearn.model_selection import train_test_split\n",
    "\n",
    "# Load and process data\n",
    "data = pd.read_csv(os.path.join(os.getcwd(), 'Input', 'AsphaltObstacle.csv'))\n",
    "x = data.iloc[:,:-1]  # Feature columns\n",
    "y = data.iloc[:,-1]  # Target column (second last)\n",
    "\n",
    "# Split data into training and testing sets\n",
    "x_train, x_test, y_train, y_test = train_test_split(x, y, test_size=0.2, random_state=42, stratify=y, shuffle=True)\n",
    "\n",
    "x_train = np.array(train.iloc[:, :-1]).reshape(len(x_train), 3,298)\n",
    "y_train = np.array(train.iloc[:, -1])\n",
    "\n",
    "# Fit RandomShapeletTransform\n",
    "rst = RandomShapeletTransform(n_shapelet_samples= 3900, max_shapelets= 3900, min_shapelet_length= 3, max_shapelet_length= 298, random_state=42, remove_self_similar=True,batch_size=100, n_jobs=-1)\n",
    "train_transform = rst.fit_transform(x_train, y_train)\n",
    "\n",
    "# Transform and save train data\n",
    "pd.concat([pd.DataFrame(train_transform), pd.DataFrame(y_train)], axis=1).to_csv(os.path.join(os.getcwd(), 'Output', 'Train_Shapelet.csv'), header=None, index=False)\n",
    "\n",
    "# Load and transform test data\n",
    "x_test = np.array(x_test.reshape(len(x_test), 3, 298)\n",
    "\n",
    "start_time = time.time()\n",
    "test_transform = pd.DataFrame(rst.transform(x_test))\n",
    "print(\"Avg test exec time:\", (time.time() - start_time) / len(test_transform), \"sec\")\n",
    "\n",
    "# Save transformed test data\n",
    "pd.concat([test_transform, pd.DataFrame(y_test)], axis=1).to_csv(os.path.join(os.getcwd(), 'Output', 'Test_Shapelet.csv'), header=None, index=False)\n"
   ]
  }
 ],
 "metadata": {
  "kernelspec": {
   "display_name": "Python 3 (ipykernel)",
   "language": "python",
   "name": "python3"
  },
  "language_info": {
   "codemirror_mode": {
    "name": "ipython",
    "version": 3
   },
   "file_extension": ".py",
   "mimetype": "text/x-python",
   "name": "python",
   "nbconvert_exporter": "python",
   "pygments_lexer": "ipython3",
   "version": "3.9.21"
  }
 },
 "nbformat": 4,
 "nbformat_minor": 5
}
