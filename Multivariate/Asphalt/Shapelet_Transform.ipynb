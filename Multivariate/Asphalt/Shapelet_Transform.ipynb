{
 "cells": [
  {
   "cell_type": "code",
   "execution_count": 13,
   "id": "0ee557e1",
   "metadata": {},
   "outputs": [
    {
     "name": "stdout",
     "output_type": "stream",
     "text": [
      "Avg test exec time: 0.2367529483941885 sec\n"
     ]
    }
   ],
   "source": [
    "import os\n",
    "import time\n",
    "import numpy as np\n",
    "import pandas as pd\n",
    "from aeon.transformations.collection.shapelet_based import (RandomShapeletTransform)\n",
    "from sklearn.model_selection import train_test_split\n",
    "\n",
    "# Load and process data\n",
    "train = pd.read_csv(os.path.join(os.getcwd(), 'Input', 'AsphaltObstacle_Train.csv'))\n",
    "x_train = np.array(train.iloc[:, :-1]).reshape(len(train), 3,298)\n",
    "y_train = np.array(train.iloc[:, -1])\n",
    "\n",
    "# Fit RandomShapeletTransform\n",
    "rst = RandomShapeletTransform(n_shapelet_samples= 3900, max_shapelets= 3900, min_shapelet_length= 3, max_shapelet_length= 298, random_state=42, remove_self_similar=True,batch_size=100, n_jobs=-1)\n",
    "train_transform = rst.fit_transform(x_train, y_train)\n",
    "\n",
    "# Transform and save train data\n",
    "pd.concat([pd.DataFrame(train_transform), pd.DataFrame(y_train)], axis=1).to_csv(os.path.join(os.getcwd(), 'Output', 'Train_Shapelet.csv'), header=None, index=False)\n",
    "\n",
    "# Load and transform test data\n",
    "test_data = pd.read_csv(os.path.join(os.getcwd(), 'Input', 'AsphaltObstacle_Test.csv'))\n",
    "x_test = np.array(test_data.iloc[:, :-1]).reshape(len(test_data), 3, 298)\n",
    "y_test = np.array(test_data.iloc[:, -1])\n",
    "\n",
    "start_time = time.time()\n",
    "test_transform = pd.DataFrame(rst.transform(x_test))\n",
    "print(\"Avg test exec time:\", (time.time() - start_time) / len(test_transform), \"sec\")\n",
    "\n",
    "# Save transformed test data\n",
    "pd.concat([test_transform, pd.DataFrame(y_test)], axis=1).to_csv(os.path.join(os.getcwd(), 'Output', 'Test_Shapelet.csv'), header=None, index=False)\n"
   ]
  }
 ],
 "metadata": {
  "kernelspec": {
   "display_name": "Python 3 (ipykernel)",
   "language": "python",
   "name": "python3"
  },
  "language_info": {
   "codemirror_mode": {
    "name": "ipython",
    "version": 3
   },
   "file_extension": ".py",
   "mimetype": "text/x-python",
   "name": "python",
   "nbconvert_exporter": "python",
   "pygments_lexer": "ipython3",
   "version": "3.9.21"
  }
 },
 "nbformat": 4,
 "nbformat_minor": 5
}
