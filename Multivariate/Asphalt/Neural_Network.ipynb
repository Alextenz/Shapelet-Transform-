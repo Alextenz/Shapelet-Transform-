{
 "cells": [
  {
   "cell_type": "code",
   "execution_count": 4,
   "id": "6fdb23ad-4545-4b43-b15f-93691310f018",
   "metadata": {},
   "outputs": [
    {
     "name": "stdout",
     "output_type": "stream",
     "text": [
      "Accuracy: 0.64, Time: 0.7739 seconds\n"
     ]
    }
   ],
   "source": [
    "import os\n",
    "import time\n",
    "import numpy as np\n",
    "import pandas as pd\n",
    "import matplotlib.pyplot as plt\n",
    "from sklearn.preprocessing import StandardScaler\n",
    "from sklearn.neural_network import MLPClassifier\n",
    "from sklearn.metrics import accuracy_score, classification_report, ConfusionMatrixDisplay\n",
    "\n",
    "# Load and preprocess data\n",
    "train = pd.read_csv(os.path.join(os.getcwd(), 'Output', 'Train_Shapelet.csv'), header=None)\n",
    "test = pd.read_csv(os.path.join(os.getcwd(), 'Output', 'Test_Shapelet.csv'), header=None)\n",
    "x_train, y_train = train.iloc[:, :-1].values, train.iloc[:, -1].values\n",
    "x_test, y_test = test.iloc[:, :-1].values, test.iloc[:, -1].values\n",
    "\n",
    "# Feature Scaling\n",
    "sc = StandardScaler()\n",
    "x_train = sc.fit_transform(x_train)\n",
    "x_test = sc.transform(x_test)\n",
    "\n",
    "# Define parameters\n",
    "max_iter = 300\n",
    "activation = 'relu'\n",
    "learning_rate = 0.4\n",
    "validation_fraction = 0.2\n",
    "momentum = 0.6\n",
    "subdirectory = os.path.join(os.getcwd(), 'Output', 'Neural_Networks', f\"{max_iter}.{activation}.{learning_rate}.{validation_fraction}.{momentum}\")\n",
    "os.makedirs(subdirectory, exist_ok=True)\n",
    "\n",
    "# Create and train the model\n",
    "mlp = MLPClassifier(hidden_layer_sizes=(1657,2485,1657), max_iter=max_iter, activation=activation,\n",
    "                    solver='adam', learning_rate_init=learning_rate, validation_fraction=validation_fraction,\n",
    "                    momentum=momentum, random_state=1, early_stopping=True)\n",
    "mlp.fit(x_train, y_train)\n",
    "\n",
    "# Predict and calculate time\n",
    "start_time = time.time()\n",
    "y_pred = mlp.predict(x_test)\n",
    "end_time = time.time()\n",
    "testing_time = end_time - start_time\n",
    "\n",
    "# Save testing time\n",
    "with open(os.path.join(subdirectory, 'testing_times.txt'), 'w') as f:\n",
    "    f.write(f\"Testing time: {testing_time:.4f} seconds\\n\")\n",
    "\n",
    "# Calculate accuracy\n",
    "accuracy = accuracy_score(y_test, y_pred)\n",
    "print(f\"Accuracy: {accuracy:.2f}, Time: {testing_time:.4f} seconds\")\n",
    "\n",
    "# Save classification report\n",
    "with open(os.path.join(subdirectory, 'classification_report.txt'), 'w') as f:\n",
    "    f.write(classification_report(y_test, y_pred))\n",
    "\n",
    "# Save confusion matrix plot\n",
    "disp = ConfusionMatrixDisplay.from_estimator(mlp, x_test, y_test)\n",
    "disp.figure_.suptitle(\"Confusion Matrix\")\n",
    "disp.figure_.savefig(os.path.join(subdirectory, 'Confusion_Matrix.png'))\n",
    "plt.close()\n"
   ]
  }
 ],
 "metadata": {
  "kernelspec": {
   "display_name": "Python 3 (ipykernel)",
   "language": "python",
   "name": "python3"
  },
  "language_info": {
   "codemirror_mode": {
    "name": "ipython",
    "version": 3
   },
   "file_extension": ".py",
   "mimetype": "text/x-python",
   "name": "python",
   "nbconvert_exporter": "python",
   "pygments_lexer": "ipython3",
   "version": "3.9.21"
  }
 },
 "nbformat": 4,
 "nbformat_minor": 5
}
